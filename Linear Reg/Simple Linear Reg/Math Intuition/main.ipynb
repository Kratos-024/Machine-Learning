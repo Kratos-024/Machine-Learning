{
 "cells": [
  {
   "cell_type": "code",
   "execution_count": null,
   "id": "2fb8ce1e",
   "metadata": {},
   "outputs": [
    {
     "name": "stdout",
     "output_type": "stream",
     "text": [
      "✅ CSV file 'cgpa_income_data.csv' created successfully!\n",
      "   CGPA  Income(LPA)\n",
      "0  6.87        13.87\n",
      "1  9.75        19.05\n",
      "2  8.66        17.46\n",
      "3  7.99        13.00\n",
      "4  5.78        11.23\n"
     ]
    }
   ],
   "source": []
  },
  {
   "cell_type": "code",
   "execution_count": 1,
   "id": "dbe98c7d",
   "metadata": {},
   "outputs": [],
   "source": [
    "import pandas as pd"
   ]
  },
  {
   "cell_type": "code",
   "execution_count": 2,
   "id": "c45933d9",
   "metadata": {},
   "outputs": [],
   "source": [
    "df = pd.read_csv(\"../cgpa_income_data.csv\")"
   ]
  },
  {
   "cell_type": "code",
   "execution_count": 3,
   "id": "f9c072ca",
   "metadata": {},
   "outputs": [],
   "source": [
    "import matplotlib.pyplot as plt"
   ]
  },
  {
   "cell_type": "code",
   "execution_count": 4,
   "id": "e0d5aa46",
   "metadata": {},
   "outputs": [
    {
     "data": {
      "text/plain": [
       "Text(0, 0.5, 'Income')"
      ]
     },
     "execution_count": 4,
     "metadata": {},
     "output_type": "execute_result"
    },
    {
     "data": {
      "image/png": "[encoded data removed]",
      "text/plain": [
       "<Figure size 640x480 with 1 Axes>"
      ]
     },
     "metadata": {},
     "output_type": "display_data"
    }
   ],
   "source": [
    "plt.scatter(df['CGPA'],df['Income(LPA)'])\n",
    "plt.xlabel('CGPA')\n",
    "plt.ylabel('Income')"
   ]
  },
  {
   "cell_type": "code",
   "execution_count": 5,
   "id": "76c30076",
   "metadata": {},
   "outputs": [],
   "source": [
    "from sklearn.model_selection import train_test_split"
   ]
  },
  {
   "cell_type": "code",
   "execution_count": 6,
   "id": "bc64ec66",
   "metadata": {},
   "outputs": [],
   "source": [
    "X=df['CGPA']\n",
    "y=df['Income(LPA)']"
   ]
  },
  {
   "cell_type": "code",
   "execution_count": 7,
   "id": "7ab187b0",
   "metadata": {},
   "outputs": [],
   "source": [
    "X_train, X_test, y_train, y_test = train_test_split(\n",
    "    X, y, test_size=0.33, random_state=42)"
   ]
  },
  {
   "cell_type": "code",
   "execution_count": 33,
   "id": "55463dc1",
   "metadata": {},
   "outputs": [],
   "source": [
    "class MeraLr:\n",
    "    def __init__(self) :\n",
    "        self.m=0\n",
    "        self.b=0\n",
    "    def fit(self,x_train:pd.DataFrame,y_train:pd.DataFrame):\n",
    "        num_m =0\n",
    "        deno_m=0\n",
    "        \n",
    "        for i in range(x_train.shape[0]):\n",
    "            num_m += ((x_train.values[i]-x_train.mean())*(y_train.values[i]-y_train.mean()))\n",
    "            deno_m += (x_train.values[i]-x_train.mean())**2\n",
    "        self.m=num_m/deno_m\n",
    "        self.b = (y_train.mean()-self.m*x_train.mean())\n",
    "        print(self.b,self.m)\n",
    "\n",
    "\n",
    "    def predict(self,x_test:pd.DataFrame):\n",
    "        y_pred_list=[]\n",
    "        for loop in range(x_test.shape[0]):\n",
    "            y_pred=self.m*x_test.values[loop]+self.b\n",
    "            y_pred_list.append(y_pred)\n",
    "\n",
    "        return y_pred_list\n",
    "        \n",
    "\n",
    "        "
   ]
  },
  {
   "cell_type": "code",
   "execution_count": 34,
   "id": "d62d2653",
   "metadata": {},
   "outputs": [
    {
     "name": "stdout",
     "output_type": "stream",
     "text": [
      "0.937093267589713 1.8512201983958254\n"
     ]
    }
   ],
   "source": [
    "myLr = MeraLr()\n",
    "try:\n",
    "    myLr.fit(X_train,y_train)\n",
    "except Exception as e:\n",
    "    print(e)"
   ]
  },
  {
   "cell_type": "code",
   "execution_count": null,
   "id": "97a98647",
   "metadata": {},
   "outputs": [],
   "source": [
    "# class MeraLr:\n",
    "    \n",
    "#     def __init__(self) :\n",
    "#         self.slope_m = 0\n",
    "#         self.intercept = 0\n",
    "#     def fit(self,x:pd.DataFrame,y:pd.DataFrame):\n",
    "#         mean_y=y.mean()\n",
    "#         mean_x=x.mean()\n",
    "#         num=0\n",
    "#         for loop in range(x.shape[0]):\n",
    "#             first_y = y.values[loop]-mean_y\n",
    "#             second_x = x.values[loop]-mean_x\n",
    "#             num = num + first_y*second_x\n",
    "#         deno=0\n",
    "#         for loop in range(x.shape[0]):\n",
    "#             first_x = x.values[loop]-mean_x\n",
    "#             deno = deno + first_x**2\n",
    "#         self.slope_m=num/deno\n",
    "#         self.intercept=mean_y-self.slope_m*mean_x\n",
    "        \n",
    "\n",
    "        \n",
    "\n",
    "\n",
    "#     def predict(self,x:pd.DataFrame):\n",
    "#         y_pred_list=[]\n",
    "#         for loop in range(x.shape[0]):\n",
    "#             y_pred=self.slope_m*x.values[loop]+self.intercept\n",
    "#             y_pred_list.append(y_pred)\n",
    "\n",
    "#         return y_pred_list"
   ]
  },
  {
   "cell_type": "code",
   "execution_count": null,
   "id": "79455a58",
   "metadata": {},
   "outputs": [],
   "source": []
  },
  {
   "cell_type": "code",
   "execution_count": null,
   "id": "2e8b43af",
   "metadata": {},
   "outputs": [],
   "source": [
    "myLr = MeraLr()\n",
    "try:\n",
    "    myLr.fit(X_train,y_train)\n",
    "except Exception as e:\n",
    "    print(e)"
   ]
  },
  {
   "cell_type": "code",
   "execution_count": 35,
   "id": "4eed32cd",
   "metadata": {},
   "outputs": [],
   "source": [
    "y_pred = myLr.predict(X_test)"
   ]
  },
  {
   "cell_type": "code",
   "execution_count": 36,
   "id": "c1f0c7f1",
   "metadata": {},
   "outputs": [
    {
     "name": "stdout",
     "output_type": "stream",
     "text": [
      "1.4820749672590043\n"
     ]
    }
   ],
   "source": [
    "from sklearn.metrics import mean_squared_error\n",
    "mse = mean_squared_error(y_test,y_pred)\n",
    "print(mse)"
   ]
  },
  {
   "cell_type": "code",
   "execution_count": 37,
   "id": "9551e06c",
   "metadata": {},
   "outputs": [],
   "source": [
    "from sklearn.linear_model import LinearRegression\n",
    "lr = LinearRegression()\n"
   ]
  },
  {
   "cell_type": "code",
   "execution_count": 38,
   "id": "cb9f4310",
   "metadata": {},
   "outputs": [],
   "source": [
    "try:\n",
    "    lr.fit(pd.DataFrame(X_train),y_train)\n",
    "except Exception as e:\n",
    "    print(e)"
   ]
  },
  {
   "cell_type": "code",
   "execution_count": 39,
   "id": "f7923691",
   "metadata": {},
   "outputs": [],
   "source": [
    "y_pred=lr.predict(pd.DataFrame(X_test))"
   ]
  },
  {
   "cell_type": "code",
   "execution_count": 40,
   "id": "d60e7f18",
   "metadata": {},
   "outputs": [
    {
     "data": {
      "text/plain": [
       "np.float64(0.9370932675897166)"
      ]
     },
     "execution_count": 40,
     "metadata": {},
     "output_type": "execute_result"
    }
   ],
   "source": [
    "lr.intercept_"
   ]
  },
  {
   "cell_type": "code",
   "execution_count": 41,
   "id": "a165fec2",
   "metadata": {},
   "outputs": [],
   "source": [
    "from sklearn.metrics import mean_squared_error\n",
    "mse = mean_squared_error(y_test,y_pred)\n"
   ]
  },
  {
   "cell_type": "code",
   "execution_count": 42,
   "id": "5e3929e0",
   "metadata": {},
   "outputs": [
    {
     "name": "stdout",
     "output_type": "stream",
     "text": [
      "1.482074967259004\n"
     ]
    }
   ],
   "source": [
    "print(mse)"
   ]
  },
  {
   "cell_type": "code",
   "execution_count": null,
   "id": "87264d39",
   "metadata": {},
   "outputs": [],
   "source": []
  }
 ],
 "metadata": {
  "kernelspec": {
   "display_name": "myvenv",
   "language": "python",
   "name": "python3"
  },
  "language_info": {
   "codemirror_mode": {
    "name": "ipython",
    "version": 3
   },
   "file_extension": ".py",
   "mimetype": "text/x-python",
   "name": "python",
   "nbconvert_exporter": "python",
   "pygments_lexer": "ipython3",
   "version": "3.13.6"
  }
 },
 "nbformat": 4,
 "nbformat_minor": 5
}
