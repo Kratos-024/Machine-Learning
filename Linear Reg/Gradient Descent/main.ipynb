{
 "cells": [
  {
   "cell_type": "code",
   "execution_count": 1,
   "id": "02691a0c",
   "metadata": {},
   "outputs": [],
   "source": [
    "from sklearn.datasets import make_regression"
   ]
  },
  {
   "cell_type": "code",
   "execution_count": 2,
   "id": "39dadfef",
   "metadata": {},
   "outputs": [],
   "source": [
    "df = make_regression(n_samples=100,n_features=1,n_informative=1,noise=20,n_targets=1)"
   ]
  },
  {
   "cell_type": "code",
   "execution_count": 3,
   "id": "00f01101",
   "metadata": {},
   "outputs": [],
   "source": [
    "X=df[0]\n",
    "y=df[1]"
   ]
  },
  {
   "cell_type": "code",
   "execution_count": 4,
   "id": "d5ec6e44",
   "metadata": {},
   "outputs": [],
   "source": [
    "from sklearn.model_selection import train_test_split\n",
    "X_train, X_test, y_train, y_test = train_test_split(\n",
    "     X, y, test_size=0.33, random_state=42)\n",
    "\n"
   ]
  },
  {
   "cell_type": "code",
   "execution_count": 5,
   "id": "f2fbccf7",
   "metadata": {},
   "outputs": [],
   "source": [
    "from sklearn.linear_model import LinearRegression\n",
    "lr = LinearRegression()\n",
    "lr.fit(X_train,y_train)\n",
    "y_pred=lr.predict(X_test)"
   ]
  },
  {
   "cell_type": "code",
   "execution_count": 6,
   "id": "553daf40",
   "metadata": {},
   "outputs": [
    {
     "data": {
      "text/plain": [
       "np.float64(0.7878498443211368)"
      ]
     },
     "execution_count": 6,
     "metadata": {},
     "output_type": "execute_result"
    }
   ],
   "source": [
    "lr.intercept_"
   ]
  },
  {
   "cell_type": "code",
   "execution_count": 7,
   "id": "9a15a5e6",
   "metadata": {},
   "outputs": [
    {
     "data": {
      "text/plain": [
       "array([78.83147121])"
      ]
     },
     "execution_count": 7,
     "metadata": {},
     "output_type": "execute_result"
    }
   ],
   "source": [
    "lr.coef_"
   ]
  },
  {
   "cell_type": "code",
   "execution_count": null,
   "id": "41717b73",
   "metadata": {},
   "outputs": [],
   "source": [
    "import numpy as np\n",
    "class MyGradient:\n",
    "    def __init__(self,slope,intercept,learning_rate,epochs):\n",
    "        self.epochs = epochs\n",
    "        self.lr = learning_rate\n",
    "        self.m=slope\n",
    "        self.b = intercept\n",
    "    def fit(self,X,y):\n",
    "        for _ in range(self.epochs):\n",
    "            loss_slope_m = -2* np.sum((y-self.m*X.ravel()-self.b)*X.ravel())\n",
    "            loss_slope_b = -2* np.sum((y-self.m*X.ravel()-self.b))\n",
    "            self.b=self.b-(self.lr*loss_slope_b)\n",
    "            self.m=self.m-(self.lr*loss_slope_m)\n",
    "        print(self.b,self.m)"
   ]
  },
  {
   "cell_type": "code",
   "execution_count": 26,
   "id": "ce021b1f",
   "metadata": {},
   "outputs": [
    {
     "name": "stdout",
     "output_type": "stream",
     "text": [
      "-1.921981124715417 29.875184224411672\n"
     ]
    }
   ],
   "source": [
    "gd = MyGradient(100,-100,0.001,1000)\n",
    "gd.fit(X_train,y_train)"
   ]
  },
  {
   "cell_type": "code",
   "execution_count": 20,
   "id": "f116bc74",
   "metadata": {},
   "outputs": [
    {
     "data": {
      "text/plain": [
       "array([ 1.36512751e+00, -9.95670422e-01, -1.18619827e+00,  2.73688303e-01,\n",
       "        1.23480450e-01,  2.20190257e-01, -8.42532500e-02, -1.08419627e+00,\n",
       "        1.30207577e+00,  3.76361853e-01, -5.52712896e-01, -1.09877440e-01,\n",
       "        2.15342609e+00, -1.16001938e+00,  8.48954267e-01,  2.37288881e-02,\n",
       "        8.33200021e-01,  1.60506820e-01,  4.04747849e-01, -1.78449893e-01,\n",
       "       -6.50170122e-01, -3.75717079e-01,  1.68338066e+00, -6.77237747e-01,\n",
       "        8.84026273e-01,  7.24116047e-01, -1.46522102e+00, -1.24847841e+00,\n",
       "        5.60844343e-02,  7.72584129e-01,  7.81164812e-01, -7.70662252e-02,\n",
       "        2.42933791e+00,  7.60492484e-01,  1.25604415e+00,  5.56951209e-01,\n",
       "       -7.28325354e-04,  3.70081090e-02, -1.08292022e+00,  3.34116333e-02,\n",
       "       -2.84672039e-02, -6.58979177e-01, -1.06371956e+00,  1.03505357e+00,\n",
       "       -1.76909586e+00, -1.77828533e-02, -1.58234555e+00,  3.16473792e-01,\n",
       "        2.10938246e-01,  5.05493861e-01,  1.29535787e+00, -4.39985922e-01,\n",
       "       -7.66403217e-01,  1.32180467e-01, -1.13326099e+00,  3.23790421e-01,\n",
       "        1.06791796e+00, -1.70221972e-01,  1.08690818e+00, -1.37617552e-01,\n",
       "       -2.39761508e+00,  1.77363273e+00,  9.13593248e-02,  7.40496284e-01,\n",
       "        1.23096960e+00,  7.88125311e-01, -1.53773646e-01])"
      ]
     },
     "execution_count": 20,
     "metadata": {},
     "output_type": "execute_result"
    }
   ],
   "source": [
    "X_train.ravel()"
   ]
  },
  {
   "cell_type": "code",
   "execution_count": null,
   "id": "131247e6",
   "metadata": {},
   "outputs": [],
   "source": []
  }
 ],
 "metadata": {
  "kernelspec": {
   "display_name": "myvenv",
   "language": "python",
   "name": "python3"
  },
  "language_info": {
   "codemirror_mode": {
    "name": "ipython",
    "version": 3
   },
   "file_extension": ".py",
   "mimetype": "text/x-python",
   "name": "python",
   "nbconvert_exporter": "python",
   "pygments_lexer": "ipython3",
   "version": "3.13.6"
  }
 },
 "nbformat": 4,
 "nbformat_minor": 5
}
